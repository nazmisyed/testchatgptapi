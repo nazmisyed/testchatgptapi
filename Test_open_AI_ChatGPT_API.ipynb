{
  "nbformat": 4,
  "nbformat_minor": 0,
  "metadata": {
    "colab": {
      "provenance": [],
      "authorship_tag": "ABX9TyPF1FPxvTz5UZARmMNXR/kK",
      "include_colab_link": true
    },
    "kernelspec": {
      "name": "python3",
      "display_name": "Python 3"
    },
    "language_info": {
      "name": "python"
    }
  },
  "cells": [
    {
      "cell_type": "markdown",
      "metadata": {
        "id": "view-in-github",
        "colab_type": "text"
      },
      "source": [
        "<a href=\"https://colab.research.google.com/github/nazmisyed/testchatgptapi/blob/main/Test_open_AI.ipynb\" target=\"_parent\"><img src=\"https://colab.research.google.com/assets/colab-badge.svg\" alt=\"Open In Colab\"/></a>"
      ]
    },
    {
      "cell_type": "code",
      "source": [
        "!pip install openai --quiet"
      ],
      "metadata": {
        "colab": {
          "base_uri": "https://localhost:8080/"
        },
        "id": "c7RGejtNtRLa",
        "outputId": "1cc89c11-fdf5-4e27-e9ca-1b59819cf07c"
      },
      "execution_count": 2,
      "outputs": [
        {
          "output_type": "stream",
          "name": "stdout",
          "text": [
            "\u001b[?25l     \u001b[90m━━━━━━━━━━━━━━━━━━━━━━━━━━━━━━━━━━━━━━━━\u001b[0m \u001b[32m0.0/70.1 KB\u001b[0m \u001b[31m?\u001b[0m eta \u001b[36m-:--:--\u001b[0m\r\u001b[2K     \u001b[90m━━━━━━━━━━━━━━━━━━━━━━━━━━━━━━━━━━━━━━━━\u001b[0m \u001b[32m70.1/70.1 KB\u001b[0m \u001b[31m2.9 MB/s\u001b[0m eta \u001b[36m0:00:00\u001b[0m\n",
            "\u001b[?25h"
          ]
        }
      ]
    },
    {
      "cell_type": "code",
      "source": [
        "import os\n",
        "import openai\n",
        "import uuid"
      ],
      "metadata": {
        "id": "cDdnl8UvZfeM"
      },
      "execution_count": 3,
      "outputs": []
    },
    {
      "cell_type": "code",
      "source": [
        "os.environ[\"OPENAI_API_KEY\"] = \"REPLACE WITH YOUR KEY\"\n",
        "openai.api_key = os.environ[\"OPENAI_API_KEY\"]"
      ],
      "metadata": {
        "id": "sBzPo_g-Y3RV"
      },
      "execution_count": 4,
      "outputs": []
    },
    {
      "cell_type": "code",
      "source": [],
      "metadata": {
        "id": "oCsGwWNikps3"
      },
      "execution_count": 2,
      "outputs": []
    },
    {
      "cell_type": "code",
      "source": [
        "class Chat:\n",
        "  \n",
        "  \n",
        "  def __init__(self,title):\n",
        "    self.title = title\n",
        "    self.id = str(uuid.uuid4()) # Generate a unique ID for the object\n",
        "    self.system_prompt = \"You are a helpful assistant.\"\n",
        "    self.messages = [{\"id\":0,\"data\":{\"role\":\"system\",\"content\": \"You are a helpful assistant.\"}}]\n",
        "    self.__auth()\n",
        "    self.total_token = 0\n",
        "\n",
        "  def __auth(self):\n",
        "    openai.api_key = os.environ[\"OPENAI_API_KEY\"]\n",
        "    \n",
        "  def __add_id(self):\n",
        "    return len(self.messages)\n",
        "\n",
        "  def __get_data_values(self):\n",
        "    return [message['data'] for message in self.messages]\n",
        "\n",
        "  def __get_openai_reply(self):\n",
        "    try:\n",
        "      completion = openai.ChatCompletion.create(model=\"gpt-3.5-turbo\", messages=self.__get_data_values())\n",
        "      answer = completion[\"choices\"][0][\"message\"][\"content\"]\n",
        "      self.total_token = completion[\"usage\"][\"total_tokens\"]\n",
        "      print(answer)\n",
        "    except Exception as err:\n",
        "       print(f\"Error getting OpenAI reply: {err}\")\n",
        "       answer = \"Sorry, Internal Server Issue\"\n",
        "       \n",
        "    return answer\n",
        "\n",
        "  def add_message(self, content):\n",
        "    \"\"\"\n",
        "    role and content are string\n",
        "    \"\"\"\n",
        "    message = {\"id\":self.__add_id(),\"data\":{\"role\": \"user\", \"content\": content}}\n",
        "    self.messages.append(message) \n",
        "    reply = {\"id\":self.__add_id(),\"data\":{\"role\": \"assistant\", \"content\": self.__get_openai_reply()}}\n",
        "    self.messages.append(reply)\n",
        "     \n",
        "\n",
        "\n"
      ],
      "metadata": {
        "id": "FMVct2vhcmRH"
      },
      "execution_count": 5,
      "outputs": []
    },
    {
      "cell_type": "code",
      "source": [
        "my_chat = Chat(title=\"Who is Adam Peaty\")"
      ],
      "metadata": {
        "id": "15tt2i_lkCFk"
      },
      "execution_count": 6,
      "outputs": []
    },
    {
      "cell_type": "code",
      "source": [
        "my_chat.messages"
      ],
      "metadata": {
        "colab": {
          "base_uri": "https://localhost:8080/"
        },
        "id": "K6tDaDS4meNW",
        "outputId": "549cab24-76b4-4acc-989b-1a60917c8a89"
      },
      "execution_count": 7,
      "outputs": [
        {
          "output_type": "execute_result",
          "data": {
            "text/plain": [
              "[{'id': 0,\n",
              "  'data': {'role': 'system', 'content': 'You are a helpful assistant.'}}]"
            ]
          },
          "metadata": {},
          "execution_count": 7
        }
      ]
    },
    {
      "cell_type": "code",
      "source": [
        "my_chat.add_message(\"Who is Adam Peaty\")"
      ],
      "metadata": {
        "colab": {
          "base_uri": "https://localhost:8080/"
        },
        "id": "NXvLu0DymguJ",
        "outputId": "b74b834c-5edf-403d-93ab-83a1c68bdc20"
      },
      "execution_count": 8,
      "outputs": [
        {
          "output_type": "stream",
          "name": "stdout",
          "text": [
            "Adam Peaty is a British competitive swimmer who specializes in breaststroke. He has won numerous medals at international events, including the Olympic Games, World Championships, and the Commonwealth Games. Peaty is considered one of the best breaststroke swimmers of all time, and holds multiple world records in his events.\n"
          ]
        }
      ]
    },
    {
      "cell_type": "code",
      "source": [
        "my_chat.messages"
      ],
      "metadata": {
        "colab": {
          "base_uri": "https://localhost:8080/"
        },
        "id": "l4mRsRt7vHXx",
        "outputId": "d9b10f6a-53c2-4b82-86ce-52fde1db4c2f"
      },
      "execution_count": 9,
      "outputs": [
        {
          "output_type": "execute_result",
          "data": {
            "text/plain": [
              "[{'id': 0,\n",
              "  'data': {'role': 'system', 'content': 'You are a helpful assistant.'}},\n",
              " {'id': 1, 'data': {'role': 'user', 'content': 'Who is Adam Peaty'}},\n",
              " {'id': 2,\n",
              "  'data': {'role': 'assistant',\n",
              "   'content': 'Adam Peaty is a British competitive swimmer who specializes in breaststroke. He has won numerous medals at international events, including the Olympic Games, World Championships, and the Commonwealth Games. Peaty is considered one of the best breaststroke swimmers of all time, and holds multiple world records in his events.'}}]"
            ]
          },
          "metadata": {},
          "execution_count": 9
        }
      ]
    },
    {
      "cell_type": "code",
      "source": [
        "my_chat.add_message(\"Who is better? He or Lily King?\")"
      ],
      "metadata": {
        "colab": {
          "base_uri": "https://localhost:8080/"
        },
        "id": "nBl8rbuJvK-f",
        "outputId": "bcf14b7e-eff3-43f3-fc41-846318f0b232"
      },
      "execution_count": 10,
      "outputs": [
        {
          "output_type": "stream",
          "name": "stdout",
          "text": [
            "Both Adam Peaty and Lily King are incredibly talented swimmers and are considered to be among the best breaststroke swimmers in the world. It's difficult to compare their abilities as they compete in different categories and different competitions. However, both Peaty and King are world record holders and have each won multiple medals at major international events. Ultimately, it is a matter of personal opinion when it comes to deciding who is better.\n"
          ]
        }
      ]
    },
    {
      "cell_type": "code",
      "source": [
        "my_chat.messages"
      ],
      "metadata": {
        "colab": {
          "base_uri": "https://localhost:8080/"
        },
        "id": "RD8EP0lk1KTv",
        "outputId": "0a0e22a1-5c55-487b-9506-fc81b000381b"
      },
      "execution_count": 11,
      "outputs": [
        {
          "output_type": "execute_result",
          "data": {
            "text/plain": [
              "[{'id': 0,\n",
              "  'data': {'role': 'system', 'content': 'You are a helpful assistant.'}},\n",
              " {'id': 1, 'data': {'role': 'user', 'content': 'Who is Adam Peaty'}},\n",
              " {'id': 2,\n",
              "  'data': {'role': 'assistant',\n",
              "   'content': 'Adam Peaty is a British competitive swimmer who specializes in breaststroke. He has won numerous medals at international events, including the Olympic Games, World Championships, and the Commonwealth Games. Peaty is considered one of the best breaststroke swimmers of all time, and holds multiple world records in his events.'}},\n",
              " {'id': 3,\n",
              "  'data': {'role': 'user', 'content': 'Who is better? He or Lily King?'}},\n",
              " {'id': 4,\n",
              "  'data': {'role': 'assistant',\n",
              "   'content': \"Both Adam Peaty and Lily King are incredibly talented swimmers and are considered to be among the best breaststroke swimmers in the world. It's difficult to compare their abilities as they compete in different categories and different competitions. However, both Peaty and King are world record holders and have each won multiple medals at major international events. Ultimately, it is a matter of personal opinion when it comes to deciding who is better.\"}}]"
            ]
          },
          "metadata": {},
          "execution_count": 11
        }
      ]
    },
    {
      "cell_type": "code",
      "source": [
        "my_chat.total_token"
      ],
      "metadata": {
        "colab": {
          "base_uri": "https://localhost:8080/"
        },
        "id": "L1s6IrMDFCCi",
        "outputId": "00690e26-51b2-4111-f0bd-c0abb74ee23f"
      },
      "execution_count": 12,
      "outputs": [
        {
          "output_type": "execute_result",
          "data": {
            "text/plain": [
              "191"
            ]
          },
          "metadata": {},
          "execution_count": 12
        }
      ]
    },
    {
      "cell_type": "code",
      "source": [],
      "metadata": {
        "id": "IgSRuWFCFDis"
      },
      "execution_count": null,
      "outputs": []
    }
  ]
}
